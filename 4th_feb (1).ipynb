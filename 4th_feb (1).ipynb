{
 "cells": [
  {
   "cell_type": "markdown",
   "id": "18499839-0c44-48d8-9158-7a75db5d0bb0",
   "metadata": {},
   "source": [
    "Ques 1"
   ]
  },
  {
   "cell_type": "code",
   "execution_count": null,
   "id": "7cb2d0c6-0e22-42ed-b82f-f8340b97196e",
   "metadata": {},
   "outputs": [],
   "source": [
    "l1=[('Sachin Tendulkar', 34357), ('Ricky Ponting', 27483), ('Jack Kallis', 25534), ('Virat Kohli', 24936)]"
   ]
  },
  {
   "cell_type": "code",
   "execution_count": 15,
   "id": "9c2bf8fc-f496-4975-a7f5-8ddc3d45098e",
   "metadata": {},
   "outputs": [
    {
     "name": "stdout",
     "output_type": "stream",
     "text": [
      "[('Virat Kohli', 24936), ('Jack Kallis', 25534), ('Ricky Ponting', 27483), ('Sachin Tendulkar', 34357)]\n"
     ]
    }
   ],
   "source": [
    "l1.sort(key=lambda x : x[1])\n",
    "print(l1)"
   ]
  },
  {
   "cell_type": "markdown",
   "id": "dbe2c01a-bd40-46ed-a385-fbd339ffbc99",
   "metadata": {},
   "source": [
    "Ques 2"
   ]
  },
  {
   "cell_type": "code",
   "execution_count": 16,
   "id": "9784536f-e2d4-47b2-a08b-14645bb4ecce",
   "metadata": {},
   "outputs": [
    {
     "data": {
      "text/plain": [
       "[1, 4, 9, 16, 25, 36, 49, 64, 81, 100]"
      ]
     },
     "execution_count": 16,
     "metadata": {},
     "output_type": "execute_result"
    }
   ],
   "source": [
    "l2 = [1, 2, 3, 4, 5, 6, 7, 8, 9, 10]\n",
    "list(map( lambda x:x**2 ,l2))"
   ]
  },
  {
   "cell_type": "markdown",
   "id": "422334df-e0fc-47b8-ac80-540f2e459e67",
   "metadata": {},
   "source": [
    "Ques 3"
   ]
  },
  {
   "cell_type": "code",
   "execution_count": 18,
   "id": "64d4b12c-1a96-43c4-a889-cc4b3a66d67e",
   "metadata": {},
   "outputs": [
    {
     "data": {
      "text/plain": [
       "('1', '2', '3', '4', '5', '6', '7', '8', '9', '10')"
      ]
     },
     "execution_count": 18,
     "metadata": {},
     "output_type": "execute_result"
    }
   ],
   "source": [
    "l3 = [1, 2, 3, 4, 5, 6, 7, 8, 9, 10]\n",
    "tuple(map(lambda x : str(x) , l3))"
   ]
  },
  {
   "cell_type": "markdown",
   "id": "ca672196-8bd1-484e-948f-8bb1c8789d22",
   "metadata": {},
   "source": [
    "Ques 4"
   ]
  },
  {
   "cell_type": "code",
   "execution_count": 20,
   "id": "c451e543-a5ec-453f-bc03-896752195b1c",
   "metadata": {},
   "outputs": [],
   "source": [
    "from functools import reduce\n"
   ]
  },
  {
   "cell_type": "code",
   "execution_count": 21,
   "id": "36e61eaa-4218-477f-9751-1b2ef46b66b6",
   "metadata": {},
   "outputs": [
    {
     "data": {
      "text/plain": [
       "15511210043330985984000000"
      ]
     },
     "execution_count": 21,
     "metadata": {},
     "output_type": "execute_result"
    }
   ],
   "source": [
    "l4=[]\n",
    "for i in range(1,26):\n",
    "    l4.append(i)\n",
    "reduce(lambda x, y: x*y , l4)"
   ]
  },
  {
   "cell_type": "markdown",
   "id": "4b969d09-f0d7-4bf7-9023-998621f576f6",
   "metadata": {},
   "source": [
    "Ques 5"
   ]
  },
  {
   "cell_type": "code",
   "execution_count": 24,
   "id": "d6920517-6c9a-46e5-9b2e-10fe9df634bb",
   "metadata": {},
   "outputs": [
    {
     "data": {
      "text/plain": [
       "[6, 60, 90, 120]"
      ]
     },
     "execution_count": 24,
     "metadata": {},
     "output_type": "execute_result"
    }
   ],
   "source": [
    "l5= [2, 3, 6, 9, 27, 60, 90, 120, 55, 46]\n",
    "list(filter(lambda x: x%2==0 and x%3==0 ,l5 ))"
   ]
  },
  {
   "cell_type": "markdown",
   "id": "61970b15-7faf-47bf-b33a-39335e2f02d1",
   "metadata": {},
   "source": [
    "Ques 6"
   ]
  },
  {
   "cell_type": "code",
   "execution_count": 26,
   "id": "38f7f0a9-7770-4600-aae3-3a2bdba55b02",
   "metadata": {},
   "outputs": [
    {
     "data": {
      "text/plain": [
       "['php', 'aba', 'radar', 'level']"
      ]
     },
     "execution_count": 26,
     "metadata": {},
     "output_type": "execute_result"
    }
   ],
   "source": [
    "l6= ['python', 'php', 'aba', 'radar', 'level']\n",
    "list(filter (lambda x: x==x[::-1], l6))"
   ]
  },
  {
   "cell_type": "code",
   "execution_count": null,
   "id": "d65fbf7e-7404-46ef-9b53-3ad636dbab76",
   "metadata": {},
   "outputs": [],
   "source": []
  },
  {
   "cell_type": "code",
   "execution_count": null,
   "id": "9d47c6ff-095b-4de2-9d63-e21f310f515d",
   "metadata": {},
   "outputs": [],
   "source": []
  },
  {
   "cell_type": "code",
   "execution_count": null,
   "id": "68745299-4359-4aed-8fc1-b0eae1bf2719",
   "metadata": {},
   "outputs": [],
   "source": []
  }
 ],
 "metadata": {
  "kernelspec": {
   "display_name": "Python 3 (ipykernel)",
   "language": "python",
   "name": "python3"
  },
  "language_info": {
   "codemirror_mode": {
    "name": "ipython",
    "version": 3
   },
   "file_extension": ".py",
   "mimetype": "text/x-python",
   "name": "python",
   "nbconvert_exporter": "python",
   "pygments_lexer": "ipython3",
   "version": "3.10.6"
  }
 },
 "nbformat": 4,
 "nbformat_minor": 5
}
