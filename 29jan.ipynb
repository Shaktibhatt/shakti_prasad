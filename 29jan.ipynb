{
 "cells": [
  {
   "cell_type": "markdown",
   "id": "05fd7931-6bf7-4b8d-9d19-3fcd9b4c18c3",
   "metadata": {},
   "source": [
    "1.   Guido van Rossum"
   ]
  },
  {
   "cell_type": "markdown",
   "id": "449ac28a-768d-4517-9f71-5014261c18c7",
   "metadata": {},
   "source": [
    "2.  object oriented programming"
   ]
  },
  {
   "cell_type": "markdown",
   "id": "00a221eb-2b52-4a1f-8e2b-f0477b459f2f",
   "metadata": {},
   "source": [
    "3.  python is not a case senstive unless it is a function being used"
   ]
  },
  {
   "cell_type": "markdown",
   "id": "d53fb978-cb30-44d6-89f1-d874584cb39e",
   "metadata": {},
   "source": [
    "4.  .pynb"
   ]
  },
  {
   "cell_type": "markdown",
   "id": "382679b8-cd25-4bc6-9ff1-78e37ef69b3a",
   "metadata": {},
   "source": [
    "5. interpreted"
   ]
  },
  {
   "cell_type": "markdown",
   "id": "14962074-1e6b-4737-bcff-adff8e6f25dc",
   "metadata": {},
   "source": [
    "6. module,funtion, object etc"
   ]
  },
  {
   "cell_type": "markdown",
   "id": "3bc47c3a-90ae-4dec-9cc3-a4ff97dfef51",
   "metadata": {},
   "source": [
    "7. (#)\n"
   ]
  },
  {
   "cell_type": "markdown",
   "id": "8a1784bf-e567-4a07-847e-0f82941377a5",
   "metadata": {},
   "source": [
    "8. sys.function"
   ]
  },
  {
   "cell_type": "markdown",
   "id": "f8cd501c-e20a-4660-8be3-b2d2def0c6f1",
   "metadata": {},
   "source": [
    "9. preferred installer program\n"
   ]
  },
  {
   "cell_type": "markdown",
   "id": "875cf90b-002a-4911-baa6-b83550534238",
   "metadata": {},
   "source": [
    "10. lambda\n",
    "\n"
   ]
  },
  {
   "cell_type": "markdown",
   "id": "9c0ded9c-b624-4fbe-8ec5-05d280ec321f",
   "metadata": {},
   "source": [
    "11. print, def, range etc"
   ]
  },
  {
   "cell_type": "markdown",
   "id": "0d90116f-9060-424f-b550-feddaa8f13cb",
   "metadata": {},
   "source": [
    "12. 79"
   ]
  },
  {
   "cell_type": "markdown",
   "id": "c1b04843-d517-4951-93ed-5d4a51ff627b",
   "metadata": {},
   "source": [
    "13. Python makes sense for data science and analytics. The language is simple to learn, flexible, and very well supported, making it quick and simple to use for data analysis."
   ]
  },
  {
   "cell_type": "markdown",
   "id": "00c3b31e-b2fe-4c4f-aaf2-96b490a83bc9",
   "metadata": {},
   "source": [
    "14. with the help of  a private heap containing all Python objects and data structures"
   ]
  },
  {
   "cell_type": "code",
   "execution_count": null,
   "id": "21aa31b6-2b86-4e81-9711-6561ce5b6d1e",
   "metadata": {},
   "outputs": [],
   "source": [
    "15."
   ]
  }
 ],
 "metadata": {
  "kernelspec": {
   "display_name": "Python 3 (ipykernel)",
   "language": "python",
   "name": "python3"
  },
  "language_info": {
   "codemirror_mode": {
    "name": "ipython",
    "version": 3
   },
   "file_extension": ".py",
   "mimetype": "text/x-python",
   "name": "python",
   "nbconvert_exporter": "python",
   "pygments_lexer": "ipython3",
   "version": "3.10.6"
  }
 },
 "nbformat": 4,
 "nbformat_minor": 5
}
