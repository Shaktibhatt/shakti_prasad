{
 "cells": [
  {
   "cell_type": "markdown",
   "id": "db691dd7-e4f8-435b-8b73-97afe18177fa",
   "metadata": {},
   "source": [
    "Ques 1\n",
    "\n",
    "Abstract method can be defined as the making a blueprint or skeleton for \n",
    "any class for using it for different types in the future.\n",
    "\n",
    "\n",
    "For example we have to make the blueprint for a school of attendance and marks gained so we dont have to make diiferent definition for different classes we store all the details in one function using @abc and use it for all 12 classes"
   ]
  },
  {
   "cell_type": "markdown",
   "id": "2f590860-eecc-4afd-81ad-d90f44f67c59",
   "metadata": {},
   "source": [
    "Ques 2\n",
    "\n",
    "\n",
    "\n",
    "Abstract method is used for using a defined class in future for diffferent types \n",
    "and several times ............. whereas encapsulation is to hide any information from the user \n",
    "for the privacy."
   ]
  },
  {
   "cell_type": "markdown",
   "id": "cb944ada-5bb1-4369-bc14-dcd05f7d27c4",
   "metadata": {},
   "source": [
    "Ques 3\n",
    "\n",
    "The ‘abc’ module in the Python library provides the infrastructure for defining custom abstract base classes.....For larger projects, it is impossible to remember the class details so abc mathod is used  ... abc stands for abstract base class"
   ]
  },
  {
   "cell_type": "markdown",
   "id": "27ef673e-53ed-4559-ad4d-7d8c4079dbd1",
   "metadata": {},
   "source": [
    "Ques 4\n",
    "\n",
    " Through abstract classes we can achieve partial or complete abstraction as abstract classes contain methods that have an implementation which can result in partial abstraction"
   ]
  },
  {
   "cell_type": "markdown",
   "id": "22e30a19-1a74-4059-80bd-da9d8a9f00d4",
   "metadata": {},
   "source": [
    "Ques 5\n",
    "\n",
    "\n",
    "When a copy of a class is created that inherits all the class properties and functions, it is called instantiating a class\n",
    "\n",
    "\n",
    "An abstract cannot be instantiated because we use abstract method as a template only according to the need we extend it and build on it before we can use it.\n",
    "\n"
   ]
  }
 ],
 "metadata": {
  "kernelspec": {
   "display_name": "Python 3 (ipykernel)",
   "language": "python",
   "name": "python3"
  },
  "language_info": {
   "codemirror_mode": {
    "name": "ipython",
    "version": 3
   },
   "file_extension": ".py",
   "mimetype": "text/x-python",
   "name": "python",
   "nbconvert_exporter": "python",
   "pygments_lexer": "ipython3",
   "version": "3.10.6"
  }
 },
 "nbformat": 4,
 "nbformat_minor": 5
}
