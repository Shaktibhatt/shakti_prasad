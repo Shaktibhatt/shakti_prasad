{
 "cells": [
  {
   "cell_type": "markdown",
   "id": "fb9d35d2-d2a7-4566-9d41-8ffb3001cf20",
   "metadata": {},
   "source": [
    "Ques 1\n",
    "\n",
    "class is the collection of objects , class is the user defined data types that acts as the blueprint for the individual objects.\n",
    "Objects are specially defined data types under a class it is a real world entity that exist.\n",
    "\n",
    "\n",
    "Example\n",
    "Suppose we are buying a new telivision so there can be different classes like company, size , price, pixel size etc  but the objects are different company names like samsumg MI or LG and size can be 50 inches and so on"
   ]
  },
  {
   "cell_type": "markdown",
   "id": "d11bef5c-2abe-4fff-a93c-007ff71e873b",
   "metadata": {},
   "source": [
    "Ques 2\n",
    "\n",
    " 1. Polymorphism\n",
    " 2. abstract\n",
    " 3. Inheritence\n",
    " 4. Encapsulations"
   ]
  },
  {
   "cell_type": "markdown",
   "id": "9f286509-da1e-4eb2-9a65-c2fcda8214e6",
   "metadata": {},
   "source": [
    "Ques 3\n",
    "\n",
    " _ _init_ _() is a constructor function which can help a class to take \n",
    "    several objects simulteniously and binds the data\n",
    "\n",
    "    "
   ]
  },
  {
   "cell_type": "markdown",
   "id": "75ec7674-4b20-47e1-8382-4a7765a4d669",
   "metadata": {},
   "source": [
    "Ques 4\n",
    "\n",
    "Self binds the atributes with the given arguments. it is the first argument just after the \n",
    "constructor"
   ]
  },
  {
   "cell_type": "markdown",
   "id": "3be33edb-6d0f-4174-bed6-90386aeab341",
   "metadata": {},
   "source": [
    "Ques 5\n",
    "\n",
    "Inhertence in OOPs is to reuse  the method in different class, in other words\n",
    "the properties of parent class is inheerited to child class\n",
    "Two types of inheritence are there multilevel and multiple inheritence"
   ]
  },
  {
   "cell_type": "code",
   "execution_count": null,
   "id": "e5d69cb7-c5f6-427a-9f86-33f660b49c38",
   "metadata": {},
   "outputs": [],
   "source": []
  }
 ],
 "metadata": {
  "kernelspec": {
   "display_name": "Python 3 (ipykernel)",
   "language": "python",
   "name": "python3"
  },
  "language_info": {
   "codemirror_mode": {
    "name": "ipython",
    "version": 3
   },
   "file_extension": ".py",
   "mimetype": "text/x-python",
   "name": "python",
   "nbconvert_exporter": "python",
   "pygments_lexer": "ipython3",
   "version": "3.10.6"
  }
 },
 "nbformat": 4,
 "nbformat_minor": 5
}
